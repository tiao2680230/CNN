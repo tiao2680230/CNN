{
 "cells": [
  {
   "cell_type": "code",
   "execution_count": 11,
   "metadata": {},
   "outputs": [],
   "source": [
    "from random import randint, sample\n",
    "def random_crop(img,w=256,h=256,num=5):\n",
    "    result=np.ndarray((1,w,h,3),dtype='uint8')\n",
    "    size=img.size\n",
    "    width=size[0]\n",
    "    height=size[1]\n",
    "    wlist=sample(range((width-w)),num)\n",
    "    hlist=sample(range((height-h)),num)\n",
    "    for i in range(num):\n",
    "        #plt.imshow(img.crop((wlist[i], hlist[i], wlist[i]+256, hlist[i]+256)))\n",
    "        #img.crop((wlist[i], hlist[i], wlist[i]+256, hlist[i]+256)).show()\n",
    "        result=np.vstack((result,np.asarray(img.crop((wlist[i], hlist[i], wlist[i]+256, hlist[i]+256)),dtype='uint8')[np.newaxis,]))\n",
    "    return result[1:]"
   ]
  },
  {
   "cell_type": "code",
   "execution_count": 12,
   "metadata": {},
   "outputs": [],
   "source": [
    "from sklearn.preprocessing import OneHotEncoder\n",
    "import pandas as pd\n",
    "import numpy as np\n",
    "def data_generation(dataset,label,w=256,h=256,num=5): #dataset is a one column dataset with a list of img(not matrix)\n",
    "    label_list=[]\n",
    "    result=np.ndarray((1,w,h,3),dtype='uint8')\n",
    "    for i in range(len(dataset)):\n",
    "        result=np.vstack((result,random_crop(img=dataset.iloc[:,0][i],w=w,h=h,num=num)))\n",
    "        for j in range(num):\n",
    "            label_list.append(label[i])\n",
    "    a=OneHotEncoder()\n",
    "    onelinedf=pd.DataFrame(label_list)\n",
    "    label_list=a.fit_transform(onelinedf).toarray()\n",
    "    return (result[1:],label_list)"
   ]
  },
  {
   "cell_type": "code",
   "execution_count": 13,
   "metadata": {},
   "outputs": [
    {
     "data": {
      "text/plain": [
       "array([[1., 0.],\n",
       "       [1., 0.],\n",
       "       [1., 0.],\n",
       "       [1., 0.],\n",
       "       [1., 0.],\n",
       "       [0., 1.],\n",
       "       [0., 1.],\n",
       "       [0., 1.],\n",
       "       [0., 1.],\n",
       "       [0., 1.]])"
      ]
     },
     "execution_count": 13,
     "metadata": {},
     "output_type": "execute_result"
    }
   ],
   "source": [
    "from PIL import Image\n",
    "img = Image.open('image/Origi1.jpg')\n",
    "df=pd.DataFrame([img,img])\n",
    "l=['O','P']\n",
    "#df.loc[:,0]\n",
    "data_generation(df,l)[1]"
   ]
  },
  {
   "cell_type": "code",
   "execution_count": 14,
   "metadata": {},
   "outputs": [],
   "source": [
    "from sklearn.preprocessing import OneHotEncoder\n",
    "import pandas as pd\n",
    "import numpy as np"
   ]
  },
  {
   "cell_type": "code",
   "execution_count": 36,
   "metadata": {},
   "outputs": [
    {
     "data": {
      "text/plain": [
       "array([[1., 0., 0., 0.],\n",
       "       [0., 1., 0., 0.],\n",
       "       [0., 0., 1., 0.],\n",
       "       [0., 0., 0., 1.],\n",
       "       [0., 0., 0., 1.]])"
      ]
     },
     "execution_count": 36,
     "metadata": {},
     "output_type": "execute_result"
    }
   ],
   "source": [
    "a=OneHotEncoder()\n",
    "onelinedf=pd.DataFrame(['a','b','c','d','d'])\n",
    "onelinedf\n",
    "a.fit_transform(onelinedf).toarray()\n",
    "\n"
   ]
  },
  {
   "cell_type": "code",
   "execution_count": 18,
   "metadata": {},
   "outputs": [],
   "source": [
    "def read_picture(name):\n",
    "    result=[]\n",
    "    for i in name:\n",
    "        result.append(Image.open(f'image/{i}.jpg'))\n",
    "    return result"
   ]
  },
  {
   "cell_type": "code",
   "execution_count": 26,
   "metadata": {},
   "outputs": [
    {
     "name": "stdout",
     "output_type": "stream",
     "text": [
      "(408, 640, 3)\n",
      "(540, 960, 3)\n",
      "(579, 1024, 3)\n",
      "(313, 579, 3)\n",
      "(400, 640, 3)\n",
      "(413, 641, 3)\n",
      "(636, 762, 3)\n"
     ]
    }
   ],
   "source": [
    "Origi=['Origi'+str(i) for i in range(1,8)]\n",
    "A=['A'+str(i) for i in range(1,8)]\n",
    "\n",
    "for i in read_picture(Origi):\n",
    "    print(np.asarray(i).shape)"
   ]
  },
  {
   "cell_type": "code",
   "execution_count": 23,
   "metadata": {},
   "outputs": [
    {
     "name": "stdout",
     "output_type": "stream",
     "text": [
      "[NbConvertApp] Converting notebook Support_function.ipynb to python\n",
      "[NbConvertApp] Writing 2102 bytes to Support_function.py\n"
     ]
    }
   ],
   "source": [
    "try:    \n",
    "    !jupyter nbconvert --to python Support_function.ipynb\n",
    "    # python即转化为.py，script即转化为.html\n",
    "    # file_name.ipynb即当前module的文件名\n",
    "except:\n",
    "    pass"
   ]
  },
  {
   "cell_type": "code",
   "execution_count": null,
   "metadata": {},
   "outputs": [],
   "source": []
  }
 ],
 "metadata": {
  "kernelspec": {
   "display_name": "Python 3",
   "language": "python",
   "name": "python3"
  },
  "language_info": {
   "codemirror_mode": {
    "name": "ipython",
    "version": 3
   },
   "file_extension": ".py",
   "mimetype": "text/x-python",
   "name": "python",
   "nbconvert_exporter": "python",
   "pygments_lexer": "ipython3",
   "version": "3.7.4"
  }
 },
 "nbformat": 4,
 "nbformat_minor": 2
}
